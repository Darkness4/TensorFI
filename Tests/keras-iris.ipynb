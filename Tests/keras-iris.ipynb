{
 "cells": [
  {
   "cell_type": "markdown",
   "metadata": {},
   "source": [
    "# IRIS TensorFI\n",
    "\n",
    "## Dependencies\n",
    "\n",
    "-  Python 2.7"
   ]
  },
  {
   "cell_type": "code",
   "execution_count": 1,
   "metadata": {},
   "outputs": [
    {
     "name": "stdout",
     "output_type": "stream",
     "text": [
      "\u001b[33mDEPRECATION: Python 2.7 will reach the end of its life on January 1st, 2020. Please upgrade your Python as Python 2.7 won't be maintained after that date. A future version of pip will drop support for Python 2.7. More details about Python 2 support in pip, can be found at https://pip.pypa.io/en/latest/development/release-process/#python-2-support\u001b[0m\r\n"
     ]
    }
   ],
   "source": [
    "!pip install -q scipy scikit-learn PyYAML matplotlib keras==2.3.0 pandas typing tensorflow==1.14.0"
   ]
  },
  {
   "cell_type": "code",
   "execution_count": 2,
   "metadata": {},
   "outputs": [],
   "source": [
    "%load_ext tensorboard"
   ]
  },
  {
   "cell_type": "code",
   "execution_count": 3,
   "metadata": {},
   "outputs": [
    {
     "name": "stderr",
     "output_type": "stream",
     "text": [
      "Using TensorFlow backend.\n"
     ]
    }
   ],
   "source": [
    "import csv\n",
    "import logging\n",
    "import os\n",
    "\n",
    "import numpy as np\n",
    "import pandas as pd\n",
    "import tensorflow as tf\n",
    "from keras import backend as K\n",
    "from keras.metrics import categorical_accuracy\n",
    "from keras.models import load_model\n",
    "from keras.objectives import categorical_crossentropy\n",
    "from keras.utils import to_categorical\n",
    "\n",
    "import TensorFI as ti"
   ]
  },
  {
   "cell_type": "code",
   "execution_count": 4,
   "metadata": {},
   "outputs": [],
   "source": [
    "pd.set_option('display.max_rows', 5)"
   ]
  },
  {
   "cell_type": "markdown",
   "metadata": {},
   "source": [
    "## Experiments configuration"
   ]
  },
  {
   "cell_type": "code",
   "execution_count": 5,
   "metadata": {},
   "outputs": [],
   "source": [
    "SEED = 0\n",
    "np.random.seed(SEED)\n",
    "\n",
    "CWD_PATH = os.getcwd()\n",
    "DATASET_PATH = os.path.join(CWD_PATH, \"DNN-model/Iris/iris-data-set.csv\")\n",
    "MODEL_PATH = os.path.join(CWD_PATH, \"DNN-model/Iris/iris_neural_network.h5\")\n",
    "CONFIG_PATH = os.path.join(CWD_PATH, \"DNN-model/Iris/config/default.yaml\")\n",
    "LOGS_PATH = os.path.join(CWD_PATH, \"DNN-model/Iris/\")"
   ]
  },
  {
   "cell_type": "markdown",
   "metadata": {},
   "source": [
    "## Load Iris Dataset as categorical"
   ]
  },
  {
   "cell_type": "code",
   "execution_count": 6,
   "metadata": {},
   "outputs": [],
   "source": [
    "# Load Iris dataset.\n",
    "with open(DATASET_PATH, 'r') as csvfile:\n",
    "    iris = list(csv.reader(csvfile))[1:]\n",
    "\n",
    "num_input = 4\n",
    "num_classes = 3\n",
    "\n",
    "# The inputs are four floats: sepal length, sepal width, petal length, petal width.\n",
    "inputs = np.array(iris)[:, :num_input].astype(\n",
    "    np.float)  # We select the first three columns.\n",
    "\n",
    "# Outputs are initially individual strings: setosa, versicolor or virginica.\n",
    "outputs = np.array(iris)[:, 4]  # We select the 4th column.\n",
    "\n",
    "# Convert the output strings to ints.\n",
    "outputs_vals, outputs_ints = np.unique(outputs, return_inverse=True)\n",
    "\n",
    "# Encode the category integers as binary categorical vairables.\n",
    "outputs_cats = to_categorical(outputs_ints)\n",
    "\n",
    "# Split the input and output data sets into training and test subsets.\n",
    "inds = np.random.permutation(len(inputs))\n",
    "\n",
    "train_inds, test_inds = np.array_split(inds, 2)\n",
    "inputs_train, outputs_train = inputs[train_inds], outputs_cats[train_inds]\n",
    "inputs_test, outputs_test = inputs[test_inds], outputs_cats[test_inds]"
   ]
  },
  {
   "cell_type": "markdown",
   "metadata": {},
   "source": [
    "## Configure Keras session to use Tensorflow Session"
   ]
  },
  {
   "cell_type": "code",
   "execution_count": 7,
   "metadata": {
    "scrolled": true
   },
   "outputs": [],
   "source": [
    "# TF-Keras Session\n",
    "sess = tf.compat.v1.Session()\n",
    "K.set_session(sess)\n",
    "\n",
    "init = tf.global_variables_initializer()\n",
    "sess.run(init)"
   ]
  },
  {
   "cell_type": "markdown",
   "metadata": {},
   "source": [
    "## Load our Model\n",
    "\n",
    "(Credits to Mathieu DUMONT)\n",
    "\n",
    "Our model is :\n",
    "\n",
    "- 4 features\n",
    "- FC 5\n",
    "- Activation Relu\n",
    "- FC 3\n",
    "- Activation Soft-Max\n",
    "- 3 labels"
   ]
  },
  {
   "cell_type": "code",
   "execution_count": 8,
   "metadata": {},
   "outputs": [
    {
     "name": "stdout",
     "output_type": "stream",
     "text": [
      "WARNING:tensorflow:From /home/marc/miniconda3/envs/py27/lib/python2.7/site-packages/keras/backend/tensorflow_backend.py:422: The name tf.global_variables is deprecated. Please use tf.compat.v1.global_variables instead.\n",
      "\n",
      "Model: \"sequential_1\"\n",
      "_________________________________________________________________\n",
      "Layer (type)                 Output Shape              Param #   \n",
      "=================================================================\n",
      "dense_1 (Dense)              (None, 5)                 25        \n",
      "_________________________________________________________________\n",
      "activation_1 (Activation)    (None, 5)                 0         \n",
      "_________________________________________________________________\n",
      "dense_2 (Dense)              (None, 3)                 18        \n",
      "_________________________________________________________________\n",
      "activation_2 (Activation)    (None, 3)                 0         \n",
      "=================================================================\n",
      "Total params: 43\n",
      "Trainable params: 43\n",
      "Non-trainable params: 0\n",
      "_________________________________________________________________\n"
     ]
    }
   ],
   "source": [
    "# Model\n",
    "K.set_learning_phase(0)\n",
    "model = load_model(MODEL_PATH, custom_objects=None, compile=True)\n",
    "model.summary()\n",
    "x = model.input\n",
    "y = model.output"
   ]
  },
  {
   "cell_type": "markdown",
   "metadata": {},
   "source": [
    "## Evaluate the Model w/o FI\n",
    "\n",
    "Evaluate:"
   ]
  },
  {
   "cell_type": "code",
   "execution_count": 9,
   "metadata": {
    "scrolled": true
   },
   "outputs": [],
   "source": [
    "# Evaluate model\n",
    "with sess.as_default():\n",
    "    y_preds = y.eval(feed_dict={x: inputs_test})\n",
    "    accuracy = tf.reduce_mean(categorical_accuracy(outputs_test,\n",
    "                                                   y_preds)).eval()\n",
    "    loss = tf.reduce_mean(categorical_crossentropy(outputs_test,\n",
    "                                                   y_preds)).eval()"
   ]
  },
  {
   "cell_type": "markdown",
   "metadata": {},
   "source": [
    "Results:"
   ]
  },
  {
   "cell_type": "code",
   "execution_count": 10,
   "metadata": {},
   "outputs": [
    {
     "data": {
      "text/plain": [
       "'Loss/Accuracy (W/O FI) = [0.18939355, 0.9866667]'"
      ]
     },
     "execution_count": 10,
     "metadata": {},
     "output_type": "execute_result"
    }
   ],
   "source": [
    "\"Loss/Accuracy (W/O FI) = \" + str([loss, accuracy])"
   ]
  },
  {
   "cell_type": "markdown",
   "metadata": {},
   "source": [
    "The predictions are (with the closest to 1.0 being the best choice):"
   ]
  },
  {
   "cell_type": "code",
   "execution_count": 11,
   "metadata": {
    "scrolled": true
   },
   "outputs": [
    {
     "data": {
      "text/html": [
       "<div>\n",
       "<style scoped>\n",
       "    .dataframe tbody tr th:only-of-type {\n",
       "        vertical-align: middle;\n",
       "    }\n",
       "\n",
       "    .dataframe tbody tr th {\n",
       "        vertical-align: top;\n",
       "    }\n",
       "\n",
       "    .dataframe thead th {\n",
       "        text-align: right;\n",
       "    }\n",
       "</style>\n",
       "<table border=\"1\" class=\"dataframe\">\n",
       "  <thead>\n",
       "    <tr style=\"text-align: right;\">\n",
       "      <th></th>\n",
       "      <th>0</th>\n",
       "      <th>1</th>\n",
       "      <th>2</th>\n",
       "    </tr>\n",
       "  </thead>\n",
       "  <tbody>\n",
       "    <tr>\n",
       "      <th>0</th>\n",
       "      <td>9.915878e-01</td>\n",
       "      <td>0.008348</td>\n",
       "      <td>0.000064</td>\n",
       "    </tr>\n",
       "    <tr>\n",
       "      <th>1</th>\n",
       "      <td>1.703185e-06</td>\n",
       "      <td>0.305018</td>\n",
       "      <td>0.694980</td>\n",
       "    </tr>\n",
       "    <tr>\n",
       "      <th>...</th>\n",
       "      <td>...</td>\n",
       "      <td>...</td>\n",
       "      <td>...</td>\n",
       "    </tr>\n",
       "    <tr>\n",
       "      <th>73</th>\n",
       "      <td>2.961268e-08</td>\n",
       "      <td>0.203358</td>\n",
       "      <td>0.796642</td>\n",
       "    </tr>\n",
       "    <tr>\n",
       "      <th>74</th>\n",
       "      <td>9.914997e-01</td>\n",
       "      <td>0.008440</td>\n",
       "      <td>0.000061</td>\n",
       "    </tr>\n",
       "  </tbody>\n",
       "</table>\n",
       "<p>75 rows × 3 columns</p>\n",
       "</div>"
      ],
      "text/plain": [
       "               0         1         2\n",
       "0   9.915878e-01  0.008348  0.000064\n",
       "1   1.703185e-06  0.305018  0.694980\n",
       "..           ...       ...       ...\n",
       "73  2.961268e-08  0.203358  0.796642\n",
       "74  9.914997e-01  0.008440  0.000061\n",
       "\n",
       "[75 rows x 3 columns]"
      ]
     },
     "execution_count": 11,
     "metadata": {},
     "output_type": "execute_result"
    }
   ],
   "source": [
    "pd.DataFrame(y_preds)  # Predictions"
   ]
  },
  {
   "cell_type": "markdown",
   "metadata": {},
   "source": [
    "## Evaluate the model with FI\n",
    "\n",
    "### Arm the FI"
   ]
  },
  {
   "cell_type": "code",
   "execution_count": 12,
   "metadata": {},
   "outputs": [
    {
     "name": "stderr",
     "output_type": "stream",
     "text": [
      "INFO:root:Initializing the injector\n",
      "INFO:root:Modifying graph in session \n",
      "WARNING:root:operatorVarHandleOp is copied with [tf.resource] output types and [] input types\n",
      "WARNING:root:operatorVarIsInitializedOp is copied with [tf.bool] output types and [tf.resource] input types\n",
      "WARNING:root:operatorReadVariableOp is copied with [tf.float32] output types and [tf.resource] input types\n",
      "WARNING:root:operatorVarHandleOp is copied with [tf.resource] output types and [] input types\n",
      "WARNING:root:operatorVarIsInitializedOp is copied with [tf.bool] output types and [tf.resource] input types\n",
      "WARNING:root:operatorReadVariableOp is copied with [tf.float32] output types and [tf.resource] input types\n",
      "WARNING:root:operatorReadVariableOp is copied with [tf.float32] output types and [tf.resource] input types\n",
      "WARNING:root:operatorReadVariableOp is copied with [tf.float32] output types and [tf.resource] input types\n",
      "WARNING:root:operatorVarHandleOp is copied with [tf.resource] output types and [] input types\n",
      "WARNING:root:operatorVarIsInitializedOp is copied with [tf.bool] output types and [tf.resource] input types\n",
      "WARNING:root:operatorReadVariableOp is copied with [tf.float32] output types and [tf.resource] input types\n",
      "WARNING:root:operatorVarHandleOp is copied with [tf.resource] output types and [] input types\n",
      "WARNING:root:operatorVarIsInitializedOp is copied with [tf.bool] output types and [tf.resource] input types\n",
      "WARNING:root:operatorReadVariableOp is copied with [tf.float32] output types and [tf.resource] input types\n",
      "WARNING:root:operatorReadVariableOp is copied with [tf.float32] output types and [tf.resource] input types\n",
      "WARNING:root:operatorReadVariableOp is copied with [tf.float32] output types and [tf.resource] input types\n",
      "WARNING:root:operatorReadVariableOp is copied with [tf.float32] output types and [tf.resource] input types\n",
      "WARNING:root:operatorReadVariableOp is copied with [tf.float32] output types and [tf.resource] input types\n",
      "WARNING:root:operatorReadVariableOp is copied with [tf.float32] output types and [tf.resource] input types\n",
      "WARNING:root:operatorReadVariableOp is copied with [tf.float32] output types and [tf.resource] input types\n",
      "WARNING:root:operatorVarIsInitializedOp is copied with [tf.bool] output types and [tf.resource] input types\n",
      "WARNING:root:operatorVarIsInitializedOp is copied with [tf.bool] output types and [tf.resource] input types\n",
      "WARNING:root:operatorVarIsInitializedOp is copied with [tf.bool] output types and [tf.resource] input types\n",
      "WARNING:root:operatorVarIsInitializedOp is copied with [tf.bool] output types and [tf.resource] input types\n",
      "WARNING:root:operatorVarHandleOp is copied with [tf.resource] output types and [] input types\n",
      "WARNING:root:operatorVarIsInitializedOp is copied with [tf.bool] output types and [tf.resource] input types\n",
      "WARNING:root:operatorReadVariableOp is copied with [tf.int64] output types and [tf.resource] input types\n",
      "WARNING:root:operatorVarHandleOp is copied with [tf.resource] output types and [] input types\n",
      "WARNING:root:operatorVarIsInitializedOp is copied with [tf.bool] output types and [tf.resource] input types\n",
      "WARNING:root:operatorReadVariableOp is copied with [tf.float32] output types and [tf.resource] input types\n",
      "WARNING:root:operatorVarHandleOp is copied with [tf.resource] output types and [] input types\n",
      "WARNING:root:operatorVarIsInitializedOp is copied with [tf.bool] output types and [tf.resource] input types\n",
      "WARNING:root:operatorReadVariableOp is copied with [tf.float32] output types and [tf.resource] input types\n",
      "WARNING:root:operatorVarHandleOp is copied with [tf.resource] output types and [] input types\n",
      "WARNING:root:operatorVarIsInitializedOp is copied with [tf.bool] output types and [tf.resource] input types\n",
      "WARNING:root:operatorReadVariableOp is copied with [tf.float32] output types and [tf.resource] input types\n",
      "WARNING:root:operatorVarHandleOp is copied with [tf.resource] output types and [] input types\n",
      "WARNING:root:operatorVarIsInitializedOp is copied with [tf.bool] output types and [tf.resource] input types\n",
      "WARNING:root:operatorReadVariableOp is copied with [tf.float32] output types and [tf.resource] input types\n",
      "WARNING:root:operatorVarHandleOp is copied with [tf.resource] output types and [] input types\n",
      "WARNING:root:operatorVarIsInitializedOp is copied with [tf.bool] output types and [tf.resource] input types\n",
      "WARNING:root:operatorReadVariableOp is copied with [tf.float32] output types and [tf.resource] input types\n",
      "WARNING:root:operatorVarHandleOp is copied with [tf.resource] output types and [] input types\n",
      "WARNING:root:operatorVarIsInitializedOp is copied with [tf.bool] output types and [tf.resource] input types\n",
      "WARNING:root:operatorReadVariableOp is copied with [tf.float32] output types and [tf.resource] input types\n",
      "WARNING:root:operatorReadVariableOp is copied with [tf.float32] output types and [tf.resource] input types\n",
      "WARNING:root:operatorReadVariableOp is copied with [tf.float32] output types and [tf.resource] input types\n",
      "WARNING:root:operatorReadVariableOp is copied with [tf.float32] output types and [tf.resource] input types\n",
      "WARNING:root:operatorReadVariableOp is copied with [tf.float32] output types and [tf.resource] input types\n",
      "WARNING:root:operatorLogSoftmax is copied with [tf.float32] output types and [tf.float32] input types\n",
      "WARNING:root:operatorReadVariableOp is copied with [tf.int64] output types and [tf.resource] input types\n",
      "WARNING:root:operatorReadVariableOp is copied with [tf.int64] output types and [tf.resource] input types\n",
      "WARNING:root:operatorReadVariableOp is copied with [tf.float32] output types and [tf.resource] input types\n",
      "WARNING:root:operatorSqrt is copied with [tf.float32] output types and [tf.float32] input types\n",
      "WARNING:root:operatorReadVariableOp is copied with [tf.float32] output types and [tf.resource] input types\n",
      "WARNING:root:operatorReadVariableOp is copied with [tf.float32] output types and [tf.resource] input types\n",
      "WARNING:root:operatorVarHandleOp is copied with [tf.resource] output types and [] input types\n",
      "WARNING:root:operatorVarIsInitializedOp is copied with [tf.bool] output types and [tf.resource] input types\n",
      "WARNING:root:operatorReadVariableOp is copied with [tf.float32] output types and [tf.resource] input types\n",
      "WARNING:root:operatorVarHandleOp is copied with [tf.resource] output types and [] input types\n",
      "WARNING:root:operatorVarIsInitializedOp is copied with [tf.bool] output types and [tf.resource] input types\n",
      "WARNING:root:operatorReadVariableOp is copied with [tf.float32] output types and [tf.resource] input types\n",
      "WARNING:root:operatorVarHandleOp is copied with [tf.resource] output types and [] input types\n",
      "WARNING:root:operatorVarIsInitializedOp is copied with [tf.bool] output types and [tf.resource] input types\n",
      "WARNING:root:operatorReadVariableOp is copied with [tf.float32] output types and [tf.resource] input types\n",
      "WARNING:root:operatorVarHandleOp is copied with [tf.resource] output types and [] input types\n",
      "WARNING:root:operatorVarIsInitializedOp is copied with [tf.bool] output types and [tf.resource] input types\n",
      "WARNING:root:operatorReadVariableOp is copied with [tf.float32] output types and [tf.resource] input types\n",
      "WARNING:root:operatorVarHandleOp is copied with [tf.resource] output types and [] input types\n",
      "WARNING:root:operatorVarIsInitializedOp is copied with [tf.bool] output types and [tf.resource] input types\n",
      "WARNING:root:operatorReadVariableOp is copied with [tf.float32] output types and [tf.resource] input types\n",
      "WARNING:root:operatorVarHandleOp is copied with [tf.resource] output types and [] input types\n",
      "WARNING:root:operatorVarIsInitializedOp is copied with [tf.bool] output types and [tf.resource] input types\n",
      "WARNING:root:operatorReadVariableOp is copied with [tf.float32] output types and [tf.resource] input types\n",
      "WARNING:root:operatorVarHandleOp is copied with [tf.resource] output types and [] input types\n",
      "WARNING:root:operatorVarIsInitializedOp is copied with [tf.bool] output types and [tf.resource] input types\n",
      "WARNING:root:operatorReadVariableOp is copied with [tf.float32] output types and [tf.resource] input types\n",
      "WARNING:root:operatorVarHandleOp is copied with [tf.resource] output types and [] input types\n",
      "WARNING:root:operatorVarIsInitializedOp is copied with [tf.bool] output types and [tf.resource] input types\n"
     ]
    },
    {
     "name": "stderr",
     "output_type": "stream",
     "text": [
      "WARNING:root:operatorReadVariableOp is copied with [tf.float32] output types and [tf.resource] input types\n",
      "WARNING:root:operatorVarHandleOp is copied with [tf.resource] output types and [] input types\n",
      "WARNING:root:operatorVarIsInitializedOp is copied with [tf.bool] output types and [tf.resource] input types\n",
      "WARNING:root:operatorReadVariableOp is copied with [tf.float32] output types and [tf.resource] input types\n",
      "WARNING:root:operatorVarHandleOp is copied with [tf.resource] output types and [] input types\n",
      "WARNING:root:operatorVarIsInitializedOp is copied with [tf.bool] output types and [tf.resource] input types\n",
      "WARNING:root:operatorReadVariableOp is copied with [tf.float32] output types and [tf.resource] input types\n",
      "WARNING:root:operatorVarHandleOp is copied with [tf.resource] output types and [] input types\n",
      "WARNING:root:operatorVarIsInitializedOp is copied with [tf.bool] output types and [tf.resource] input types\n",
      "WARNING:root:operatorReadVariableOp is copied with [tf.float32] output types and [tf.resource] input types\n",
      "WARNING:root:operatorVarHandleOp is copied with [tf.resource] output types and [] input types\n",
      "WARNING:root:operatorVarIsInitializedOp is copied with [tf.bool] output types and [tf.resource] input types\n",
      "WARNING:root:operatorReadVariableOp is copied with [tf.float32] output types and [tf.resource] input types\n",
      "WARNING:root:operatorReadVariableOp is copied with [tf.float32] output types and [tf.resource] input types\n",
      "WARNING:root:operatorReadVariableOp is copied with [tf.float32] output types and [tf.resource] input types\n",
      "WARNING:root:operatorReadVariableOp is copied with [tf.float32] output types and [tf.resource] input types\n",
      "WARNING:root:operatorReadVariableOp is copied with [tf.float32] output types and [tf.resource] input types\n",
      "WARNING:root:operatorReadVariableOp is copied with [tf.float32] output types and [tf.resource] input types\n",
      "WARNING:root:operatorReadVariableOp is copied with [tf.float32] output types and [tf.resource] input types\n",
      "WARNING:root:operatorSqrt is copied with [tf.float32] output types and [tf.float32] input types\n",
      "WARNING:root:operatorReadVariableOp is copied with [tf.float32] output types and [tf.resource] input types\n",
      "WARNING:root:operatorReadVariableOp is copied with [tf.float32] output types and [tf.resource] input types\n",
      "WARNING:root:operatorReadVariableOp is copied with [tf.float32] output types and [tf.resource] input types\n",
      "WARNING:root:operatorReadVariableOp is copied with [tf.float32] output types and [tf.resource] input types\n",
      "WARNING:root:operatorReadVariableOp is copied with [tf.float32] output types and [tf.resource] input types\n",
      "WARNING:root:operatorReadVariableOp is copied with [tf.float32] output types and [tf.resource] input types\n",
      "WARNING:root:operatorReadVariableOp is copied with [tf.float32] output types and [tf.resource] input types\n",
      "WARNING:root:operatorReadVariableOp is copied with [tf.float32] output types and [tf.resource] input types\n",
      "WARNING:root:operatorReadVariableOp is copied with [tf.float32] output types and [tf.resource] input types\n",
      "WARNING:root:operatorReadVariableOp is copied with [tf.float32] output types and [tf.resource] input types\n",
      "WARNING:root:operatorSqrt is copied with [tf.float32] output types and [tf.float32] input types\n",
      "WARNING:root:operatorReadVariableOp is copied with [tf.float32] output types and [tf.resource] input types\n",
      "WARNING:root:operatorReadVariableOp is copied with [tf.float32] output types and [tf.resource] input types\n",
      "WARNING:root:operatorReadVariableOp is copied with [tf.float32] output types and [tf.resource] input types\n",
      "WARNING:root:operatorReadVariableOp is copied with [tf.float32] output types and [tf.resource] input types\n",
      "WARNING:root:operatorReadVariableOp is copied with [tf.float32] output types and [tf.resource] input types\n",
      "WARNING:root:operatorReadVariableOp is copied with [tf.float32] output types and [tf.resource] input types\n",
      "WARNING:root:operatorReadVariableOp is copied with [tf.float32] output types and [tf.resource] input types\n",
      "WARNING:root:operatorReadVariableOp is copied with [tf.float32] output types and [tf.resource] input types\n",
      "WARNING:root:operatorReadVariableOp is copied with [tf.float32] output types and [tf.resource] input types\n",
      "WARNING:root:operatorReadVariableOp is copied with [tf.float32] output types and [tf.resource] input types\n",
      "WARNING:root:operatorSqrt is copied with [tf.float32] output types and [tf.float32] input types\n",
      "WARNING:root:operatorReadVariableOp is copied with [tf.float32] output types and [tf.resource] input types\n",
      "WARNING:root:operatorReadVariableOp is copied with [tf.float32] output types and [tf.resource] input types\n",
      "WARNING:root:operatorReadVariableOp is copied with [tf.float32] output types and [tf.resource] input types\n",
      "WARNING:root:operatorReadVariableOp is copied with [tf.float32] output types and [tf.resource] input types\n",
      "WARNING:root:operatorReadVariableOp is copied with [tf.float32] output types and [tf.resource] input types\n",
      "WARNING:root:operatorReadVariableOp is copied with [tf.float32] output types and [tf.resource] input types\n",
      "WARNING:root:operatorReadVariableOp is copied with [tf.float32] output types and [tf.resource] input types\n",
      "WARNING:root:operatorReadVariableOp is copied with [tf.float32] output types and [tf.resource] input types\n",
      "WARNING:root:operatorReadVariableOp is copied with [tf.float32] output types and [tf.resource] input types\n",
      "WARNING:root:operatorReadVariableOp is copied with [tf.float32] output types and [tf.resource] input types\n",
      "WARNING:root:operatorSqrt is copied with [tf.float32] output types and [tf.float32] input types\n",
      "WARNING:root:operatorReadVariableOp is copied with [tf.float32] output types and [tf.resource] input types\n",
      "WARNING:root:operatorReadVariableOp is copied with [tf.float32] output types and [tf.resource] input types\n",
      "WARNING:root:operatorReadVariableOp is copied with [tf.float32] output types and [tf.resource] input types\n",
      "WARNING:root:operatorReadVariableOp is copied with [tf.float32] output types and [tf.resource] input types\n",
      "WARNING:root:operatorVarIsInitializedOp is copied with [tf.bool] output types and [tf.resource] input types\n",
      "WARNING:root:operatorVarIsInitializedOp is copied with [tf.bool] output types and [tf.resource] input types\n",
      "WARNING:root:operatorVarIsInitializedOp is copied with [tf.bool] output types and [tf.resource] input types\n",
      "WARNING:root:operatorVarIsInitializedOp is copied with [tf.bool] output types and [tf.resource] input types\n",
      "WARNING:root:operatorVarIsInitializedOp is copied with [tf.bool] output types and [tf.resource] input types\n",
      "WARNING:root:operatorVarIsInitializedOp is copied with [tf.bool] output types and [tf.resource] input types\n",
      "WARNING:root:operatorVarIsInitializedOp is copied with [tf.bool] output types and [tf.resource] input types\n",
      "WARNING:root:operatorVarIsInitializedOp is copied with [tf.bool] output types and [tf.resource] input types\n",
      "WARNING:root:operatorVarIsInitializedOp is copied with [tf.bool] output types and [tf.resource] input types\n",
      "WARNING:root:operatorVarIsInitializedOp is copied with [tf.bool] output types and [tf.resource] input types\n",
      "WARNING:root:operatorVarIsInitializedOp is copied with [tf.bool] output types and [tf.resource] input types\n",
      "WARNING:root:operatorVarIsInitializedOp is copied with [tf.bool] output types and [tf.resource] input types\n",
      "WARNING:root:operatorVarIsInitializedOp is copied with [tf.bool] output types and [tf.resource] input types\n",
      "WARNING:root:operatorVarIsInitializedOp is copied with [tf.bool] output types and [tf.resource] input types\n",
      "WARNING:root:operatorVarIsInitializedOp is copied with [tf.bool] output types and [tf.resource] input types\n",
      "WARNING:root:operatorVarIsInitializedOp is copied with [tf.bool] output types and [tf.resource] input types\n",
      "WARNING:root:operatorVarIsInitializedOp is copied with [tf.bool] output types and [tf.resource] input types\n",
      "WARNING:root:operatorVarIsInitializedOp is copied with [tf.bool] output types and [tf.resource] input types\n",
      "WARNING:root:operatorVarIsInitializedOp is copied with [tf.bool] output types and [tf.resource] input types\n",
      "WARNING:root:operatorReadVariableOp is copied with [tf.int64] output types and [tf.resource] input types\n",
      "WARNING:root:operatorReadVariableOp is copied with [tf.float32] output types and [tf.resource] input types\n"
     ]
    },
    {
     "name": "stderr",
     "output_type": "stream",
     "text": [
      "WARNING:root:operatorReadVariableOp is copied with [tf.float32] output types and [tf.resource] input types\n",
      "WARNING:root:operatorReadVariableOp is copied with [tf.float32] output types and [tf.resource] input types\n",
      "WARNING:root:operatorReadVariableOp is copied with [tf.float32] output types and [tf.resource] input types\n",
      "WARNING:root:operatorReadVariableOp is copied with [tf.float32] output types and [tf.resource] input types\n",
      "WARNING:root:operatorReadVariableOp is copied with [tf.float32] output types and [tf.resource] input types\n",
      "WARNING:root:operatorReadVariableOp is copied with [tf.float32] output types and [tf.resource] input types\n",
      "WARNING:root:operatorReadVariableOp is copied with [tf.float32] output types and [tf.resource] input types\n",
      "WARNING:root:operatorReadVariableOp is copied with [tf.float32] output types and [tf.resource] input types\n",
      "WARNING:root:operatorReadVariableOp is copied with [tf.float32] output types and [tf.resource] input types\n",
      "WARNING:root:operatorReadVariableOp is copied with [tf.float32] output types and [tf.resource] input types\n",
      "WARNING:root:operatorReadVariableOp is copied with [tf.float32] output types and [tf.resource] input types\n",
      "INFO:root:Done modification of graph\n",
      "INFO:root:Initializing the fault injection parameters\n",
      "INFO:root:Initializing the fault log\n",
      "INFO:root:Performing monkey patching\n",
      "INFO:root:Done with init\n",
      "INFO:root:Turning on injections\n"
     ]
    }
   ],
   "source": [
    "fi = ti.TensorFI(sess,\n",
    "                 configFileName=CONFIG_PATH,\n",
    "                 logDir=LOGS_PATH,\n",
    "                 logLevel=logging.INFO,\n",
    "                 disableInjections=True,\n",
    "                 name=\"IrisInjection\",\n",
    "                 fiPrefix=\"fi_\")\n",
    "fi.turnOnInjections()"
   ]
  },
  {
   "cell_type": "markdown",
   "metadata": {},
   "source": [
    "We can observe some warnings such as `WARNING:root:operatorReadVariableOp is copied with [tf.float32] output types and [tf.resource] input types`.  This means that the operation is not supported by TensorFI and therefore has no fault injection capability.\n",
    "\n",
    "We ignore these warnings when initializing or reading a variable (unless we want to inject fault at initialization/reading), but some operations may require fault injection capability to be implemented. In this model, 2 operations lacked fault injeciton capability :\n",
    "\n",
    "-  `LogSoftmax`\n",
    "-  `Sqrt`\n"
   ]
  },
  {
   "cell_type": "markdown",
   "metadata": {},
   "source": [
    "### Evaluate\n",
    "\n",
    "Before evaluating, we will store the Tensorflow graph (where all operators are located) for debugging purposes."
   ]
  },
  {
   "cell_type": "code",
   "execution_count": 13,
   "metadata": {},
   "outputs": [],
   "source": [
    "# writer used to save graph. Use tensorboard to view.\n",
    "writer = tf.compat.v1.summary.FileWriter(LOGS_PATH, sess.graph)"
   ]
  },
  {
   "cell_type": "markdown",
   "metadata": {},
   "source": [
    "Evaluate :"
   ]
  },
  {
   "cell_type": "code",
   "execution_count": 14,
   "metadata": {},
   "outputs": [
    {
     "name": "stderr",
     "output_type": "stream",
     "text": [
      "INFO:root:Calling newRun IrisInjection runCount = 1\n",
      "INFO:root:Tensor(\"activation_2/Softmax:0\", shape=(?, 3), dtype=float32) is not iterable\n",
      "INFO:root:Done with newRun IrisInjection\n",
      "INFO:root:Calling newRun IrisInjection runCount = 2\n",
      "INFO:root:Tensor(\"Mean_3:0\", shape=(), dtype=float32) is not iterable\n",
      "INFO:root:Done with newRun IrisInjection\n",
      "INFO:root:Calling newRun IrisInjection runCount = 3\n",
      "INFO:root:Tensor(\"Mean_4:0\", shape=(), dtype=float32) is not iterable\n",
      "INFO:root:Done with newRun IrisInjection\n"
     ]
    }
   ],
   "source": [
    "with sess.as_default():\n",
    "    y_preds = y.eval(feed_dict={x: inputs_test})\n",
    "    accuracy = tf.reduce_mean(categorical_accuracy(outputs_test,\n",
    "                                                   y_preds)).eval()\n",
    "    loss = tf.reduce_mean(categorical_crossentropy(outputs_test,\n",
    "                                                   y_preds)).eval()"
   ]
  },
  {
   "cell_type": "markdown",
   "metadata": {},
   "source": [
    "Results:"
   ]
  },
  {
   "cell_type": "code",
   "execution_count": 15,
   "metadata": {},
   "outputs": [
    {
     "data": {
      "text/plain": [
       "'Loss/Accuracy (FI) = [0.63154584, 0.94666666]'"
      ]
     },
     "execution_count": 15,
     "metadata": {},
     "output_type": "execute_result"
    }
   ],
   "source": [
    "\"Loss/Accuracy (FI) = \" + str([loss, accuracy])"
   ]
  },
  {
   "cell_type": "markdown",
   "metadata": {},
   "source": [
    "The predictions are (with the closest to 1.0 being the best choice):"
   ]
  },
  {
   "cell_type": "code",
   "execution_count": 16,
   "metadata": {},
   "outputs": [
    {
     "data": {
      "text/html": [
       "<div>\n",
       "<style scoped>\n",
       "    .dataframe tbody tr th:only-of-type {\n",
       "        vertical-align: middle;\n",
       "    }\n",
       "\n",
       "    .dataframe tbody tr th {\n",
       "        vertical-align: top;\n",
       "    }\n",
       "\n",
       "    .dataframe thead th {\n",
       "        text-align: right;\n",
       "    }\n",
       "</style>\n",
       "<table border=\"1\" class=\"dataframe\">\n",
       "  <thead>\n",
       "    <tr style=\"text-align: right;\">\n",
       "      <th></th>\n",
       "      <th>0</th>\n",
       "      <th>1</th>\n",
       "      <th>2</th>\n",
       "    </tr>\n",
       "  </thead>\n",
       "  <tbody>\n",
       "    <tr>\n",
       "      <th>0</th>\n",
       "      <td>9.915878e-01</td>\n",
       "      <td>0.008348</td>\n",
       "      <td>0.000064</td>\n",
       "    </tr>\n",
       "    <tr>\n",
       "      <th>1</th>\n",
       "      <td>1.703185e-06</td>\n",
       "      <td>0.305018</td>\n",
       "      <td>0.694980</td>\n",
       "    </tr>\n",
       "    <tr>\n",
       "      <th>...</th>\n",
       "      <td>...</td>\n",
       "      <td>...</td>\n",
       "      <td>...</td>\n",
       "    </tr>\n",
       "    <tr>\n",
       "      <th>73</th>\n",
       "      <td>2.961268e-08</td>\n",
       "      <td>0.203358</td>\n",
       "      <td>0.796642</td>\n",
       "    </tr>\n",
       "    <tr>\n",
       "      <th>74</th>\n",
       "      <td>9.914997e-01</td>\n",
       "      <td>0.008440</td>\n",
       "      <td>0.000061</td>\n",
       "    </tr>\n",
       "  </tbody>\n",
       "</table>\n",
       "<p>75 rows × 3 columns</p>\n",
       "</div>"
      ],
      "text/plain": [
       "               0         1         2\n",
       "0   9.915878e-01  0.008348  0.000064\n",
       "1   1.703185e-06  0.305018  0.694980\n",
       "..           ...       ...       ...\n",
       "73  2.961268e-08  0.203358  0.796642\n",
       "74  9.914997e-01  0.008440  0.000061\n",
       "\n",
       "[75 rows x 3 columns]"
      ]
     },
     "execution_count": 16,
     "metadata": {},
     "output_type": "execute_result"
    }
   ],
   "source": [
    "pd.DataFrame(y_preds)  # Predictions"
   ]
  },
  {
   "cell_type": "code",
   "execution_count": 17,
   "metadata": {},
   "outputs": [
    {
     "data": {
      "text/plain": [
       "Reusing TensorBoard on port 8008 (pid 15477), started 0:04:49 ago. (Use '!kill 15477' to kill it.)"
      ]
     },
     "metadata": {},
     "output_type": "display_data"
    },
    {
     "data": {
      "text/html": [
       "\n",
       "        <iframe\n",
       "            width=\"100%\"\n",
       "            height=\"800\"\n",
       "            src=\"http://localhost:8008\"\n",
       "            frameborder=\"0\"\n",
       "            allowfullscreen\n",
       "        ></iframe>\n",
       "        "
      ],
      "text/plain": [
       "<IPython.lib.display.IFrame at 0x7ffa7865efd0>"
      ]
     },
     "metadata": {},
     "output_type": "display_data"
    }
   ],
   "source": [
    "%tensorboard --logdir DNN-model/Iris/ --port 8008"
   ]
  },
  {
   "cell_type": "code",
   "execution_count": 18,
   "metadata": {},
   "outputs": [],
   "source": [
    "writer.close()\n",
    "sess.close()"
   ]
  }
 ],
 "metadata": {
  "kernelspec": {
   "display_name": "Python 2",
   "language": "python",
   "name": "python2"
  },
  "language_info": {
   "codemirror_mode": {
    "name": "ipython",
    "version": 2
   },
   "file_extension": ".py",
   "mimetype": "text/x-python",
   "name": "python",
   "nbconvert_exporter": "python",
   "pygments_lexer": "ipython2",
   "version": "2.7.18"
  }
 },
 "nbformat": 4,
 "nbformat_minor": 2
}
